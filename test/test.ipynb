{
 "cells": [
  {
   "cell_type": "markdown",
   "metadata": {
    "colab_type": "text",
    "id": "view-in-github"
   },
   "source": [
    "<a href=\"https://github.com/xtHuang0927/GTFS2GMNS\" target=\"_parent\"><img src=\"https://colab.research.google.com/assets/colab-badge.svg\" alt=\"Open In Colab\"/></a>"
   ]
  },
  {
   "cell_type": "markdown",
   "metadata": {
    "id": "HUArQQu8ckkC"
   },
   "source": [
    "## Introduction\n",
    "- **GTFS2GMNS**: The General Transit Feed Specification (GTFS) defines a common format for public transportation schedules and associated geographic information. It is used by thousands of public transport providers. As a data conversion tool, gtfs2gmns, can directly convert the GTFS data to node, link, and agent files in the GMNS format. In addition, this tool can merge the transit network into the road network which is obtain by Open Street Map via OSM2GMNS.\n",
    "\n",
    "- **AMS**: The objective of the AMS data hub is to define a prototype of operations and associated requirements that will allow for the effective integration of analysis modeling and simulation tools across various domains and scales. Easily exchange information and data at both the input and output levels.\n",
    "\n",
    "- **ASU Trans + AI Lab**: The team devotes to developing a better AMS data hub framework and a set of integrated open-source transportation tools. The objective of this notebook is to aggregate the developed software as a systematic modeling flow and demonstrate its successive steps, so call “7-steps modeling”. \n"
   ]
  },
  {
   "cell_type": "code",
   "execution_count": null,
   "metadata": {
    "colab": {
     "base_uri": "https://localhost:8080/",
     "height": 697
    },
    "id": "7TN3JHepPEq2",
    "outputId": "ad952cdb-cad8-4b0f-be68-7bde2a253d29",
    "pycharm": {
     "is_executing": true
    }
   },
   "outputs": [
    {
     "name": "stdout",
     "output_type": "stream",
     "text": [
      "Looking in indexes: https://pypi.tuna.tsinghua.edu.cn/simple\n",
      "Requirement already satisfied: gtfs2gmns in d:\\softdownload\\anaconda3\\lib\\site-packages (0.1.0)\n",
      "Looking in indexes: https://pypi.tuna.tsinghua.edu.cn/simple\n",
      "Requirement already satisfied: osm2gmns in d:\\softdownload\\anaconda3\\lib\\site-packages (0.2.1)\n",
      "Requirement already satisfied: protobuf>=3.14.0 in d:\\softdownload\\anaconda3\\lib\\site-packages (from osm2gmns) (3.14.0)\n",
      "Requirement already satisfied: pandas>=0.24.0 in d:\\softdownload\\anaconda3\\lib\\site-packages (from osm2gmns) (1.2.1)\n",
      "Requirement already satisfied: shapely>=1.6 in d:\\softdownload\\anaconda3\\lib\\site-packages (from osm2gmns) (1.7.1)\n",
      "Requirement already satisfied: python-dateutil>=2.7.3 in d:\\softdownload\\anaconda3\\lib\\site-packages (from pandas>=0.24.0->osm2gmns) (2.8.0)\n",
      "Requirement already satisfied: numpy>=1.16.5 in d:\\softdownload\\anaconda3\\lib\\site-packages (from pandas>=0.24.0->osm2gmns) (1.19.5)\n",
      "Requirement already satisfied: pytz>=2017.3 in d:\\softdownload\\anaconda3\\lib\\site-packages (from pandas>=0.24.0->osm2gmns) (2019.3)\n",
      "Requirement already satisfied: six>=1.9 in d:\\softdownload\\anaconda3\\lib\\site-packages (from protobuf>=3.14.0->osm2gmns) (1.15.0)\n"
     ]
    }
   ],
   "source": [
    "!pip install gtfs2gmns\n",
    "!pip install osm2gmns\n",
    "!pip install geopandas"
   ]
  },
  {
   "cell_type": "code",
   "execution_count": 2,
   "metadata": {
    "colab": {
     "base_uri": "https://localhost:8080/"
    },
    "id": "_5iPhrNgdP6A",
    "outputId": "ddb1d802-0da8-42fa-a6b7-e020e29ca825"
   },
   "outputs": [],
   "source": [
    "\"import packages\"\n",
    "import os"
   ]
  },
  {
   "cell_type": "markdown",
   "metadata": {
    "id": "55xMlltndZBA"
   },
   "source": [
    "### Step 0. GTFS data download\n",
    "\n",
    "https://gtfs.org/examples/\n",
    "\n",
    "https://transitfeeds.com/\n",
    "\n",
    "| Step |     Description    |       Software       | Input Files | Output Files |\n",
    "|:----:|:------------------:|:--------------------:|:-----------:|:------------:|\n",
    "    | 0    | GTFS data download | transitfeeds | - -         | stop.txt, route.txt, trip.txt, stop_times.txt and others|"
   ]
  },
  {
   "cell_type": "markdown",
   "metadata": {},
   "source": [
    "### Step 0.1 Convert GTFS Data into GMNS Format"
   ]
  },
  {
   "cell_type": "code",
   "execution_count": 1,
   "metadata": {
    "id": "i3_IjzP9dVu4",
    "pycharm": {
     "is_executing": true
    }
   },
   "outputs": [
    {
     "name": "stdout",
     "output_type": "stream",
     "text": [
      "gtfs2gmns, version 0.1.0\n",
      "reading gtfs data...\n",
      "converting gtfs data into gmns format...\n",
      "reading gtfs data...\n",
      "converting gtfs data into gmns format...\n"
     ]
    }
   ],
   "source": [
    "\"Step 0.1 Convert GTFS Data into GMNS Format\"\n",
    "\n",
    "gtfs_path = '.'\n",
    "gmns_path = '.'\n",
    "\n",
    "import gtfs2gmns as gg\n",
    "\n",
    "node_transit,link_transit = gg.Convert_GTFS(gtfs_path,gmns_path)\n",
    "\n",
    "# Please modify the directory.\n",
    "# If you need the bounding box of the transit network, Create_Boundary function might help.\n",
    "\n",
    "import gtfs2gmns as gg\n",
    "\n",
    "node_transit,link_transit = gg.Convert_GTFS(gtfs_path,gmns_path)\n",
    "bbox = gg.Create_Boundary(node_transit)"
   ]
  },
  {
   "cell_type": "code",
   "execution_count": 3,
   "metadata": {},
   "outputs": [
    {
     "data": {
      "text/html": [
       "<div>\n",
       "<style scoped>\n",
       "    .dataframe tbody tr th:only-of-type {\n",
       "        vertical-align: middle;\n",
       "    }\n",
       "\n",
       "    .dataframe tbody tr th {\n",
       "        vertical-align: top;\n",
       "    }\n",
       "\n",
       "    .dataframe thead th {\n",
       "        text-align: right;\n",
       "    }\n",
       "</style>\n",
       "<table border=\"1\" class=\"dataframe\">\n",
       "  <thead>\n",
       "    <tr style=\"text-align: right;\">\n",
       "      <th></th>\n",
       "      <th>node_id</th>\n",
       "      <th>stop_id</th>\n",
       "      <th>x_coord</th>\n",
       "      <th>y_coord</th>\n",
       "      <th>node_type</th>\n",
       "      <th>ctrl_type</th>\n",
       "      <th>zone_id</th>\n",
       "      <th>geometry</th>\n",
       "    </tr>\n",
       "  </thead>\n",
       "  <tbody>\n",
       "    <tr>\n",
       "      <th>0</th>\n",
       "      <td>10000001</td>\n",
       "      <td>2320943</td>\n",
       "      <td>-78.616821</td>\n",
       "      <td>35.768137</td>\n",
       "      <td>transit</td>\n",
       "      <td>NaN</td>\n",
       "      <td>NaN</td>\n",
       "      <td>POINT (-78.61682 35.76814)</td>\n",
       "    </tr>\n",
       "    <tr>\n",
       "      <th>1</th>\n",
       "      <td>10000002</td>\n",
       "      <td>2323762</td>\n",
       "      <td>-78.693720</td>\n",
       "      <td>35.793506</td>\n",
       "      <td>transit</td>\n",
       "      <td>NaN</td>\n",
       "      <td>NaN</td>\n",
       "      <td>POINT (-78.69372 35.79351)</td>\n",
       "    </tr>\n",
       "    <tr>\n",
       "      <th>2</th>\n",
       "      <td>10000003</td>\n",
       "      <td>2326845</td>\n",
       "      <td>-78.664027</td>\n",
       "      <td>35.789222</td>\n",
       "      <td>transit</td>\n",
       "      <td>NaN</td>\n",
       "      <td>NaN</td>\n",
       "      <td>POINT (-78.66403 35.78922)</td>\n",
       "    </tr>\n",
       "    <tr>\n",
       "      <th>3</th>\n",
       "      <td>10000004</td>\n",
       "      <td>2330752</td>\n",
       "      <td>-78.608443</td>\n",
       "      <td>35.797145</td>\n",
       "      <td>transit</td>\n",
       "      <td>NaN</td>\n",
       "      <td>NaN</td>\n",
       "      <td>POINT (-78.60844 35.79715)</td>\n",
       "    </tr>\n",
       "    <tr>\n",
       "      <th>4</th>\n",
       "      <td>10000005</td>\n",
       "      <td>2387286</td>\n",
       "      <td>-78.709050</td>\n",
       "      <td>35.793469</td>\n",
       "      <td>transit</td>\n",
       "      <td>NaN</td>\n",
       "      <td>NaN</td>\n",
       "      <td>POINT (-78.70905 35.79347)</td>\n",
       "    </tr>\n",
       "  </tbody>\n",
       "</table>\n",
       "</div>"
      ],
      "text/plain": [
       "    node_id  stop_id    x_coord    y_coord node_type  ctrl_type  zone_id  \\\n",
       "0  10000001  2320943 -78.616821  35.768137   transit        NaN      NaN   \n",
       "1  10000002  2323762 -78.693720  35.793506   transit        NaN      NaN   \n",
       "2  10000003  2326845 -78.664027  35.789222   transit        NaN      NaN   \n",
       "3  10000004  2330752 -78.608443  35.797145   transit        NaN      NaN   \n",
       "4  10000005  2387286 -78.709050  35.793469   transit        NaN      NaN   \n",
       "\n",
       "                     geometry  \n",
       "0  POINT (-78.61682 35.76814)  \n",
       "1  POINT (-78.69372 35.79351)  \n",
       "2  POINT (-78.66403 35.78922)  \n",
       "3  POINT (-78.60844 35.79715)  \n",
       "4  POINT (-78.70905 35.79347)  "
      ]
     },
     "execution_count": 3,
     "metadata": {},
     "output_type": "execute_result"
    }
   ],
   "source": [
    "node_transit.head(5)"
   ]
  },
  {
   "cell_type": "code",
   "execution_count": 4,
   "metadata": {},
   "outputs": [
    {
     "data": {
      "text/html": [
       "<div>\n",
       "<style scoped>\n",
       "    .dataframe tbody tr th:only-of-type {\n",
       "        vertical-align: middle;\n",
       "    }\n",
       "\n",
       "    .dataframe tbody tr th {\n",
       "        vertical-align: top;\n",
       "    }\n",
       "\n",
       "    .dataframe thead th {\n",
       "        text-align: right;\n",
       "    }\n",
       "</style>\n",
       "<table border=\"1\" class=\"dataframe\">\n",
       "  <thead>\n",
       "    <tr style=\"text-align: right;\">\n",
       "      <th></th>\n",
       "      <th>name</th>\n",
       "      <th>from_node_id</th>\n",
       "      <th>to_node_id</th>\n",
       "      <th>length</th>\n",
       "      <th>geometry</th>\n",
       "      <th>link_type_name</th>\n",
       "      <th>link_type</th>\n",
       "      <th>dir_flag</th>\n",
       "      <th>lanes</th>\n",
       "      <th>free_speed</th>\n",
       "      <th>capacity</th>\n",
       "    </tr>\n",
       "    <tr>\n",
       "      <th>link_id</th>\n",
       "      <th></th>\n",
       "      <th></th>\n",
       "      <th></th>\n",
       "      <th></th>\n",
       "      <th></th>\n",
       "      <th></th>\n",
       "      <th></th>\n",
       "      <th></th>\n",
       "      <th></th>\n",
       "      <th></th>\n",
       "      <th></th>\n",
       "    </tr>\n",
       "  </thead>\n",
       "  <tbody>\n",
       "    <tr>\n",
       "      <th>10000001</th>\n",
       "      <td>1537</td>\n",
       "      <td>10000839</td>\n",
       "      <td>10000840</td>\n",
       "      <td>196.408590</td>\n",
       "      <td>LINESTRING (-78.659554834459 35.76157155872600...</td>\n",
       "      <td>transit</td>\n",
       "      <td>99</td>\n",
       "      <td>1</td>\n",
       "      <td>1</td>\n",
       "      <td>50</td>\n",
       "      <td>100</td>\n",
       "    </tr>\n",
       "    <tr>\n",
       "      <th>10000002</th>\n",
       "      <td>1537</td>\n",
       "      <td>10000840</td>\n",
       "      <td>10000841</td>\n",
       "      <td>295.596966</td>\n",
       "      <td>LINESTRING (-78.658098 35.762884, -78.655556 3...</td>\n",
       "      <td>transit</td>\n",
       "      <td>99</td>\n",
       "      <td>1</td>\n",
       "      <td>1</td>\n",
       "      <td>50</td>\n",
       "      <td>100</td>\n",
       "    </tr>\n",
       "    <tr>\n",
       "      <th>10000003</th>\n",
       "      <td>1537</td>\n",
       "      <td>10000841</td>\n",
       "      <td>10001027</td>\n",
       "      <td>237.175552</td>\n",
       "      <td>LINESTRING (-78.655556 35.764561, -78.653533 3...</td>\n",
       "      <td>transit</td>\n",
       "      <td>99</td>\n",
       "      <td>1</td>\n",
       "      <td>1</td>\n",
       "      <td>50</td>\n",
       "      <td>100</td>\n",
       "    </tr>\n",
       "    <tr>\n",
       "      <th>10000004</th>\n",
       "      <td>1537</td>\n",
       "      <td>10001027</td>\n",
       "      <td>10000842</td>\n",
       "      <td>168.818786</td>\n",
       "      <td>LINESTRING (-78.653533 35.765923, -78.652106 3...</td>\n",
       "      <td>transit</td>\n",
       "      <td>99</td>\n",
       "      <td>1</td>\n",
       "      <td>1</td>\n",
       "      <td>50</td>\n",
       "      <td>100</td>\n",
       "    </tr>\n",
       "    <tr>\n",
       "      <th>10000005</th>\n",
       "      <td>1537</td>\n",
       "      <td>10000842</td>\n",
       "      <td>10000569</td>\n",
       "      <td>601.512970</td>\n",
       "      <td>LINESTRING (-78.652106 35.766905, -78.647961 3...</td>\n",
       "      <td>transit</td>\n",
       "      <td>99</td>\n",
       "      <td>1</td>\n",
       "      <td>1</td>\n",
       "      <td>50</td>\n",
       "      <td>100</td>\n",
       "    </tr>\n",
       "  </tbody>\n",
       "</table>\n",
       "</div>"
      ],
      "text/plain": [
       "          name  from_node_id  to_node_id      length  \\\n",
       "link_id                                                \n",
       "10000001  1537      10000839    10000840  196.408590   \n",
       "10000002  1537      10000840    10000841  295.596966   \n",
       "10000003  1537      10000841    10001027  237.175552   \n",
       "10000004  1537      10001027    10000842  168.818786   \n",
       "10000005  1537      10000842    10000569  601.512970   \n",
       "\n",
       "                                                   geometry link_type_name  \\\n",
       "link_id                                                                      \n",
       "10000001  LINESTRING (-78.659554834459 35.76157155872600...        transit   \n",
       "10000002  LINESTRING (-78.658098 35.762884, -78.655556 3...        transit   \n",
       "10000003  LINESTRING (-78.655556 35.764561, -78.653533 3...        transit   \n",
       "10000004  LINESTRING (-78.653533 35.765923, -78.652106 3...        transit   \n",
       "10000005  LINESTRING (-78.652106 35.766905, -78.647961 3...        transit   \n",
       "\n",
       "          link_type  dir_flag  lanes  free_speed  capacity  \n",
       "link_id                                                     \n",
       "10000001         99         1      1          50       100  \n",
       "10000002         99         1      1          50       100  \n",
       "10000003         99         1      1          50       100  \n",
       "10000004         99         1      1          50       100  \n",
       "10000005         99         1      1          50       100  "
      ]
     },
     "execution_count": 4,
     "metadata": {},
     "output_type": "execute_result"
    }
   ],
   "source": [
    "link_transit.head(5)"
   ]
  },
  {
   "cell_type": "code",
   "execution_count": 5,
   "metadata": {},
   "outputs": [
    {
     "data": {
      "text/plain": [
       "[-78.80199, 35.573104, -78.323486, 35.990455]"
      ]
     },
     "execution_count": 5,
     "metadata": {},
     "output_type": "execute_result"
    }
   ],
   "source": [
    "bbox"
   ]
  },
  {
   "cell_type": "markdown",
   "metadata": {},
   "source": [
    "### Step 0.2 Get the OSM Network\n",
    "Before merging the transit network into the road network, you need to download the osm data and convert it into the GMNS format first. OSM2GMNS python package will be a good choice."
   ]
  },
  {
   "cell_type": "code",
   "execution_count": 7,
   "metadata": {
    "id": "nKNJzwHCbbXe",
    "pycharm": {
     "is_executing": true
    }
   },
   "outputs": [],
   "source": [
    "\"Step 0.2 Get the OSM Network\"\n",
    "\n",
    "import os\n",
    "import osm2gmns as og\n",
    "\n",
    "osm_path = 'osm/consolidated/'\n",
    "\n",
    "net = og.getNetFromOSMFile('osm/map.osm',network_type=('auto'), default_lanes=True, default_speed=True)\n",
    "og.outputNetToCSV(net, output_folder='osm/')\n",
    "\n",
    "net = og.getNetFromCSV(osm_path)\n",
    "og.consolidateComplexIntersections(net)\n",
    "og.outputNetToCSV(net, output_folder=osm_path)"
   ]
  },
  {
   "cell_type": "markdown",
   "metadata": {
    "id": "pfZ39iSliHaz"
   },
   "source": [
    "### Step 1. Create the Connector\n",
    "You can merge the networks by building the connector between the transit node and the nearby OSM node.\n",
    "\n",
    "Make sure you already obtain node_transit.csv and the osm files (node.csv and link.csv)."
   ]
  },
  {
   "cell_type": "code",
   "execution_count": 8,
   "metadata": {
    "id": "U3p_8G9VgxKc"
   },
   "outputs": [
    {
     "name": "stdout",
     "output_type": "stream",
     "text": [
      "creating connector between osm network and gtfs data...\n"
     ]
    }
   ],
   "source": [
    "\"Step 1 Create the Connector\"\n",
    "\n",
    "import gtfs2gmns as gg\n",
    "\n",
    "node,link_osm_connector = gg.CreatConnector_osm_gtfs(osm_path,gmns_path)"
   ]
  },
  {
   "cell_type": "code",
   "execution_count": 9,
   "metadata": {},
   "outputs": [
    {
     "data": {
      "text/html": [
       "<div>\n",
       "<style scoped>\n",
       "    .dataframe tbody tr th:only-of-type {\n",
       "        vertical-align: middle;\n",
       "    }\n",
       "\n",
       "    .dataframe tbody tr th {\n",
       "        vertical-align: top;\n",
       "    }\n",
       "\n",
       "    .dataframe thead th {\n",
       "        text-align: right;\n",
       "    }\n",
       "</style>\n",
       "<table border=\"1\" class=\"dataframe\">\n",
       "  <thead>\n",
       "    <tr style=\"text-align: right;\">\n",
       "      <th></th>\n",
       "      <th>name</th>\n",
       "      <th>from_node_id</th>\n",
       "      <th>to_node_id</th>\n",
       "      <th>dir_flag</th>\n",
       "      <th>length</th>\n",
       "      <th>lanes</th>\n",
       "      <th>free_speed</th>\n",
       "      <th>capacity</th>\n",
       "      <th>link_type_name</th>\n",
       "      <th>link_type</th>\n",
       "      <th>geometry</th>\n",
       "      <th>allowed_uses</th>\n",
       "    </tr>\n",
       "    <tr>\n",
       "      <th>link_id</th>\n",
       "      <th></th>\n",
       "      <th></th>\n",
       "      <th></th>\n",
       "      <th></th>\n",
       "      <th></th>\n",
       "      <th></th>\n",
       "      <th></th>\n",
       "      <th></th>\n",
       "      <th></th>\n",
       "      <th></th>\n",
       "      <th></th>\n",
       "      <th></th>\n",
       "    </tr>\n",
       "  </thead>\n",
       "  <tbody>\n",
       "    <tr>\n",
       "      <th>151609</th>\n",
       "      <td>None</td>\n",
       "      <td>10001472</td>\n",
       "      <td>55429</td>\n",
       "      <td>1</td>\n",
       "      <td>25.883684</td>\n",
       "      <td>1</td>\n",
       "      <td>29.0</td>\n",
       "      <td>None</td>\n",
       "      <td>connector</td>\n",
       "      <td>20</td>\n",
       "      <td>LINESTRING (-78.780543291419 35.9139798803417,...</td>\n",
       "      <td>NaN</td>\n",
       "    </tr>\n",
       "    <tr>\n",
       "      <th>151610</th>\n",
       "      <td>None</td>\n",
       "      <td>17017</td>\n",
       "      <td>10001473</td>\n",
       "      <td>1</td>\n",
       "      <td>198.038204</td>\n",
       "      <td>1</td>\n",
       "      <td>29.0</td>\n",
       "      <td>None</td>\n",
       "      <td>connector</td>\n",
       "      <td>20</td>\n",
       "      <td>LINESTRING (-78.7561799 35.773025399999995, -7...</td>\n",
       "      <td>NaN</td>\n",
       "    </tr>\n",
       "    <tr>\n",
       "      <th>151611</th>\n",
       "      <td>None</td>\n",
       "      <td>10001473</td>\n",
       "      <td>17017</td>\n",
       "      <td>1</td>\n",
       "      <td>198.038204</td>\n",
       "      <td>1</td>\n",
       "      <td>29.0</td>\n",
       "      <td>None</td>\n",
       "      <td>connector</td>\n",
       "      <td>20</td>\n",
       "      <td>LINESTRING (-78.75837 35.773146000000004, -78....</td>\n",
       "      <td>NaN</td>\n",
       "    </tr>\n",
       "    <tr>\n",
       "      <th>151612</th>\n",
       "      <td>None</td>\n",
       "      <td>18078</td>\n",
       "      <td>10001474</td>\n",
       "      <td>1</td>\n",
       "      <td>44.517918</td>\n",
       "      <td>1</td>\n",
       "      <td>29.0</td>\n",
       "      <td>None</td>\n",
       "      <td>connector</td>\n",
       "      <td>20</td>\n",
       "      <td>LINESTRING (-78.632828 35.7682416, -78.632341 ...</td>\n",
       "      <td>NaN</td>\n",
       "    </tr>\n",
       "    <tr>\n",
       "      <th>151613</th>\n",
       "      <td>None</td>\n",
       "      <td>10001474</td>\n",
       "      <td>18078</td>\n",
       "      <td>1</td>\n",
       "      <td>44.517918</td>\n",
       "      <td>1</td>\n",
       "      <td>29.0</td>\n",
       "      <td>None</td>\n",
       "      <td>connector</td>\n",
       "      <td>20</td>\n",
       "      <td>LINESTRING (-78.632341 35.768306, -78.632828 3...</td>\n",
       "      <td>NaN</td>\n",
       "    </tr>\n",
       "  </tbody>\n",
       "</table>\n",
       "</div>"
      ],
      "text/plain": [
       "         name  from_node_id  to_node_id  dir_flag      length  lanes  \\\n",
       "link_id                                                                \n",
       "151609   None      10001472       55429         1   25.883684      1   \n",
       "151610   None         17017    10001473         1  198.038204      1   \n",
       "151611   None      10001473       17017         1  198.038204      1   \n",
       "151612   None         18078    10001474         1   44.517918      1   \n",
       "151613   None      10001474       18078         1   44.517918      1   \n",
       "\n",
       "         free_speed capacity link_type_name  link_type  \\\n",
       "link_id                                                  \n",
       "151609         29.0     None      connector         20   \n",
       "151610         29.0     None      connector         20   \n",
       "151611         29.0     None      connector         20   \n",
       "151612         29.0     None      connector         20   \n",
       "151613         29.0     None      connector         20   \n",
       "\n",
       "                                                  geometry allowed_uses  \n",
       "link_id                                                                  \n",
       "151609   LINESTRING (-78.780543291419 35.9139798803417,...          NaN  \n",
       "151610   LINESTRING (-78.7561799 35.773025399999995, -7...          NaN  \n",
       "151611   LINESTRING (-78.75837 35.773146000000004, -78....          NaN  \n",
       "151612   LINESTRING (-78.632828 35.7682416, -78.632341 ...          NaN  \n",
       "151613   LINESTRING (-78.632341 35.768306, -78.632828 3...          NaN  "
      ]
     },
     "execution_count": 9,
     "metadata": {},
     "output_type": "execute_result"
    }
   ],
   "source": [
    "link_osm_connector.tail(5)"
   ]
  },
  {
   "cell_type": "markdown",
   "metadata": {
    "id": "2oLdpnhsikA6"
   },
   "source": [
    "### Step 2. Create the Transit Route\n",
    "This procedure can help you generate the actual trace for the transit route.\n"
   ]
  },
  {
   "cell_type": "code",
   "execution_count": 10,
   "metadata": {
    "id": "6t5irvEgit9P",
    "pycharm": {
     "name": "#%%\n"
    }
   },
   "outputs": [
    {
     "name": "stdout",
     "output_type": "stream",
     "text": [
      "creating transit routes...\n"
     ]
    },
    {
     "name": "stderr",
     "output_type": "stream",
     "text": [
      "D:\\Users\\Alice\\anaconda3\\lib\\site-packages\\pandas\\core\\indexing.py:670: SettingWithCopyWarning: \n",
      "A value is trying to be set on a copy of a slice from a DataFrame\n",
      "\n",
      "See the caveats in the documentation: https://pandas.pydata.org/pandas-docs/stable/user_guide/indexing.html#returning-a-view-versus-a-copy\n",
      "  self._setitem_with_indexer(indexer, value)\n"
     ]
    }
   ],
   "source": [
    "\"Step 2 Create the Transit Route\"\n",
    "\n",
    "import gtfs2gmns as gg\n",
    "\n",
    "link = gg.Create_TransitRoute(gmns_path)"
   ]
  },
  {
   "cell_type": "code",
   "execution_count": 12,
   "metadata": {},
   "outputs": [
    {
     "data": {
      "text/html": [
       "<div>\n",
       "<style scoped>\n",
       "    .dataframe tbody tr th:only-of-type {\n",
       "        vertical-align: middle;\n",
       "    }\n",
       "\n",
       "    .dataframe tbody tr th {\n",
       "        vertical-align: top;\n",
       "    }\n",
       "\n",
       "    .dataframe thead th {\n",
       "        text-align: right;\n",
       "    }\n",
       "</style>\n",
       "<table border=\"1\" class=\"dataframe\">\n",
       "  <thead>\n",
       "    <tr style=\"text-align: right;\">\n",
       "      <th></th>\n",
       "      <th>link_id</th>\n",
       "      <th>name</th>\n",
       "      <th>from_node_id</th>\n",
       "      <th>to_node_id</th>\n",
       "      <th>dir_flag</th>\n",
       "      <th>length</th>\n",
       "      <th>lanes</th>\n",
       "      <th>free_speed</th>\n",
       "      <th>capacity</th>\n",
       "      <th>link_type_name</th>\n",
       "      <th>link_type</th>\n",
       "      <th>geometry</th>\n",
       "      <th>allowed_uses</th>\n",
       "    </tr>\n",
       "  </thead>\n",
       "  <tbody>\n",
       "    <tr>\n",
       "      <th>153460</th>\n",
       "      <td>10075761</td>\n",
       "      <td>1528</td>\n",
       "      <td>10000239</td>\n",
       "      <td>10000657</td>\n",
       "      <td>1</td>\n",
       "      <td>707.328793</td>\n",
       "      <td>1</td>\n",
       "      <td>50.0</td>\n",
       "      <td>100.0</td>\n",
       "      <td>transit</td>\n",
       "      <td>99</td>\n",
       "      <td>LINESTRING (-78.692196 35.76867100000001, -78....</td>\n",
       "      <td>NaN</td>\n",
       "    </tr>\n",
       "    <tr>\n",
       "      <th>153461</th>\n",
       "      <td>10076132</td>\n",
       "      <td>1528</td>\n",
       "      <td>10000633</td>\n",
       "      <td>10000634</td>\n",
       "      <td>1</td>\n",
       "      <td>1003.325427</td>\n",
       "      <td>1</td>\n",
       "      <td>50.0</td>\n",
       "      <td>100.0</td>\n",
       "      <td>transit</td>\n",
       "      <td>99</td>\n",
       "      <td>LINESTRING (-78.6762469992 35.7800731694, -78....</td>\n",
       "      <td>NaN</td>\n",
       "    </tr>\n",
       "    <tr>\n",
       "      <th>153462</th>\n",
       "      <td>10076133</td>\n",
       "      <td>1528</td>\n",
       "      <td>10000634</td>\n",
       "      <td>10000635</td>\n",
       "      <td>1</td>\n",
       "      <td>785.867076</td>\n",
       "      <td>1</td>\n",
       "      <td>50.0</td>\n",
       "      <td>100.0</td>\n",
       "      <td>transit</td>\n",
       "      <td>99</td>\n",
       "      <td>LINESTRING (-78.681522538404 35.77511262308, -...</td>\n",
       "      <td>NaN</td>\n",
       "    </tr>\n",
       "    <tr>\n",
       "      <th>153463</th>\n",
       "      <td>10076136</td>\n",
       "      <td>1528</td>\n",
       "      <td>10001234</td>\n",
       "      <td>10000240</td>\n",
       "      <td>1</td>\n",
       "      <td>346.667968</td>\n",
       "      <td>1</td>\n",
       "      <td>50.0</td>\n",
       "      <td>100.0</td>\n",
       "      <td>transit</td>\n",
       "      <td>99</td>\n",
       "      <td>LINESTRING (-78.6909845247 35.7693634746, -78....</td>\n",
       "      <td>NaN</td>\n",
       "    </tr>\n",
       "    <tr>\n",
       "      <th>153464</th>\n",
       "      <td>10076137</td>\n",
       "      <td>1528</td>\n",
       "      <td>10000240</td>\n",
       "      <td>10000915</td>\n",
       "      <td>1</td>\n",
       "      <td>1118.917643</td>\n",
       "      <td>1</td>\n",
       "      <td>50.0</td>\n",
       "      <td>100.0</td>\n",
       "      <td>transit</td>\n",
       "      <td>99</td>\n",
       "      <td>LINESTRING (-78.694538 35.76835300000001, -78....</td>\n",
       "      <td>NaN</td>\n",
       "    </tr>\n",
       "  </tbody>\n",
       "</table>\n",
       "</div>"
      ],
      "text/plain": [
       "         link_id  name  from_node_id  to_node_id  dir_flag       length  \\\n",
       "153460  10075761  1528      10000239    10000657         1   707.328793   \n",
       "153461  10076132  1528      10000633    10000634         1  1003.325427   \n",
       "153462  10076133  1528      10000634    10000635         1   785.867076   \n",
       "153463  10076136  1528      10001234    10000240         1   346.667968   \n",
       "153464  10076137  1528      10000240    10000915         1  1118.917643   \n",
       "\n",
       "        lanes  free_speed  capacity link_type_name  link_type  \\\n",
       "153460      1        50.0     100.0        transit         99   \n",
       "153461      1        50.0     100.0        transit         99   \n",
       "153462      1        50.0     100.0        transit         99   \n",
       "153463      1        50.0     100.0        transit         99   \n",
       "153464      1        50.0     100.0        transit         99   \n",
       "\n",
       "                                                 geometry allowed_uses  \n",
       "153460  LINESTRING (-78.692196 35.76867100000001, -78....          NaN  \n",
       "153461  LINESTRING (-78.6762469992 35.7800731694, -78....          NaN  \n",
       "153462  LINESTRING (-78.681522538404 35.77511262308, -...          NaN  \n",
       "153463  LINESTRING (-78.6909845247 35.7693634746, -78....          NaN  \n",
       "153464  LINESTRING (-78.694538 35.76835300000001, -78....          NaN  "
      ]
     },
     "execution_count": 12,
     "metadata": {},
     "output_type": "execute_result"
    }
   ],
   "source": [
    "link.tail(5)"
   ]
  },
  {
   "cell_type": "markdown",
   "metadata": {
    "id": "FRkpQeo0qSkX"
   },
   "source": [
    "### Step 3. Visualization\n",
    "You can visualize generated networks using NeXTA or QGIS.\n",
    "\n"
   ]
  },
  {
   "cell_type": "markdown",
   "metadata": {},
   "source": [
    "\n",
    "---\n",
    "| Step |         Description        |   Software  |                   Input Files                  |                       Output Files                       |\n",
    "|:----:|:--------------------------:|:-----------:|:----------------------------------------------:|:--------------------------------------------------------:|\n",
    "| 3    | Zone-to-zone travel demand | grid2demand | Node.csv, Link.csv, Poi.csv, Poi_trip_rate.csv | Demand.csv, Zone.csv, Accessibility.csv, Input_agent.csv |\n"
   ]
  }
 ],
 "metadata": {
  "colab": {
   "authorship_tag": "ABX9TyM0/tdCTjDXFDx9O97RBsoR",
   "collapsed_sections": [],
   "include_colab_link": true,
   "name": "multiresolution_modeling.ipynb",
   "provenance": [],
   "toc_visible": true
  },
  "kernelspec": {
   "display_name": "Python 3",
   "language": "python",
   "name": "python3"
  },
  "language_info": {
   "codemirror_mode": {
    "name": "ipython",
    "version": 3
   },
   "file_extension": ".py",
   "mimetype": "text/x-python",
   "name": "python",
   "nbconvert_exporter": "python",
   "pygments_lexer": "ipython3",
   "version": "3.7.6"
  }
 },
 "nbformat": 4,
 "nbformat_minor": 1
}
