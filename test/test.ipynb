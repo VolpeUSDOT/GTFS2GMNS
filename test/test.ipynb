{
 "cells": [
  {
   "cell_type": "markdown",
   "metadata": {},
   "source": [
    "## Introduction\n",
    "- **GMNS**: The General Modeling Network Specification (GMNS) defines a common human and machine-readable format for sharing routable road network files. It is designed to be used in multi-modal static and dynamic transportation planning and operations models.\n",
    "- **GTFS**: The General Transit Feed Specification [(GTFS)](https://gtfs.org/) defines a common format for public transportation schedules and associated geographic information. It is used by thousands of public transport providers. "
   ]
  },
  {
   "cell_type": "code",
   "execution_count": 1,
   "metadata": {},
   "outputs": [
    {
     "name": "stdout",
     "output_type": "stream",
     "text": [
      "Requirement already satisfied: osm2gmns in d:\\users\\alice\\anaconda3\\lib\\site-packages (0.3.5)\n",
      "Requirement already satisfied: protobuf>=3.14.0 in d:\\users\\alice\\anaconda3\\lib\\site-packages (from osm2gmns) (3.14.0)\n",
      "Requirement already satisfied: shapely>=1.7 in d:\\users\\alice\\anaconda3\\lib\\site-packages (from osm2gmns) (1.7.1)\n",
      "Requirement already satisfied: pandas>=0.24.0 in d:\\users\\alice\\anaconda3\\lib\\site-packages (from osm2gmns) (1.0.1)\n",
      "Requirement already satisfied: pytz>=2017.2 in d:\\users\\alice\\anaconda3\\lib\\site-packages (from pandas>=0.24.0->osm2gmns) (2019.3)\n",
      "Requirement already satisfied: python-dateutil>=2.6.1 in d:\\users\\alice\\anaconda3\\lib\\site-packages (from pandas>=0.24.0->osm2gmns) (2.8.1)\n",
      "Requirement already satisfied: numpy>=1.13.3 in d:\\users\\alice\\anaconda3\\lib\\site-packages (from pandas>=0.24.0->osm2gmns) (1.18.1)\n",
      "Requirement already satisfied: six>=1.9 in d:\\users\\alice\\anaconda3\\lib\\site-packages (from protobuf>=3.14.0->osm2gmns) (1.14.0)\n",
      "Requirement already satisfied: gtfs2gmns in d:\\users\\alice\\anaconda3\\lib\\site-packages\\gtfs2gmns-0.1.0-py3.7.egg (0.1.0)\n"
     ]
    }
   ],
   "source": [
    "!pip install osm2gmns\n",
    "!pip install gtfs2gmns"
   ]
  },
  {
   "cell_type": "code",
   "execution_count": 5,
   "metadata": {},
   "outputs": [],
   "source": [
    "\"import packages\"\n",
    "import os\n",
    "import osm2gmns as og\n",
    "import gtfs2gmns as gg"
   ]
  },
  {
   "cell_type": "markdown",
   "metadata": {},
   "source": [
    "#### Step 0. GTFS data download\n",
    "http://transitfeeds.com/feeds"
   ]
  },
  {
   "cell_type": "markdown",
   "metadata": {},
   "source": [
    "#### Step 1. Convert GTFS Data into GMNS Format\n",
    "Please modify the directory."
   ]
  },
  {
   "cell_type": "code",
   "execution_count": 8,
   "metadata": {},
   "outputs": [
    {
     "ename": "SyntaxError",
     "evalue": "EOL while scanning string literal (<ipython-input-8-692924c5ce39>, line 2)",
     "output_type": "error",
     "traceback": [
      "\u001b[1;36m  File \u001b[1;32m\"<ipython-input-8-692924c5ce39>\"\u001b[1;36m, line \u001b[1;32m2\u001b[0m\n\u001b[1;33m    osm_path = 'osm\\consolidated\\'\u001b[0m\n\u001b[1;37m                                  ^\u001b[0m\n\u001b[1;31mSyntaxError\u001b[0m\u001b[1;31m:\u001b[0m EOL while scanning string literal\n"
     ]
    }
   ],
   "source": [
    "city = 'Raleigh'\n",
    "osm_path = 'osm/consolidated/'\n",
    "gtfs_path = 'gtfs/'\n",
    "gmns_path = './' + os.sep + city"
   ]
  },
  {
   "cell_type": "code",
   "execution_count": 7,
   "metadata": {},
   "outputs": [
    {
     "name": "stdout",
     "output_type": "stream",
     "text": [
      "reading gtfs data...\n"
     ]
    },
    {
     "ename": "FileNotFoundError",
     "evalue": "[Errno 2] No such file or directory: 'gtfs/\\\\stops.txt'",
     "output_type": "error",
     "traceback": [
      "\u001b[1;31m---------------------------------------------------------------------------\u001b[0m",
      "\u001b[1;31mFileNotFoundError\u001b[0m                         Traceback (most recent call last)",
      "\u001b[1;32m<ipython-input-7-d619b03193d7>\u001b[0m in \u001b[0;36m<module>\u001b[1;34m\u001b[0m\n\u001b[1;32m----> 1\u001b[1;33m \u001b[0mnode_transit\u001b[0m\u001b[1;33m,\u001b[0m\u001b[0mlink_transit\u001b[0m \u001b[1;33m=\u001b[0m \u001b[0mgg\u001b[0m\u001b[1;33m.\u001b[0m\u001b[0mConvert_GTFS\u001b[0m\u001b[1;33m(\u001b[0m\u001b[0mgtfs_path\u001b[0m\u001b[1;33m,\u001b[0m\u001b[0mgmns_path\u001b[0m\u001b[1;33m)\u001b[0m\u001b[1;33m\u001b[0m\u001b[1;33m\u001b[0m\u001b[0m\n\u001b[0m\u001b[0;32m      2\u001b[0m \u001b[0mnode_transit\u001b[0m\u001b[1;33m.\u001b[0m\u001b[0mhead\u001b[0m\u001b[1;33m(\u001b[0m\u001b[1;36m5\u001b[0m\u001b[1;33m)\u001b[0m\u001b[1;33m\u001b[0m\u001b[1;33m\u001b[0m\u001b[0m\n\u001b[0;32m      3\u001b[0m \u001b[0mlink_transit\u001b[0m\u001b[1;33m.\u001b[0m\u001b[0mhead\u001b[0m\u001b[1;33m(\u001b[0m\u001b[1;36m5\u001b[0m\u001b[1;33m)\u001b[0m\u001b[1;33m\u001b[0m\u001b[1;33m\u001b[0m\u001b[0m\n",
      "\u001b[1;32mD:\\Users\\Alice\\anaconda3\\lib\\site-packages\\gtfs2gmns-0.1.0-py3.7.egg\\gtfs2gmns\\gtfs2gmns.py\u001b[0m in \u001b[0;36mConvert_GTFS\u001b[1;34m(gtfs_path, gmns_path)\u001b[0m\n\u001b[0;32m     95\u001b[0m     \u001b[0mprint\u001b[0m\u001b[1;33m(\u001b[0m\u001b[1;34m'reading gtfs data...'\u001b[0m\u001b[1;33m)\u001b[0m\u001b[1;33m\u001b[0m\u001b[1;33m\u001b[0m\u001b[0m\n\u001b[0;32m     96\u001b[0m \u001b[1;33m\u001b[0m\u001b[0m\n\u001b[1;32m---> 97\u001b[1;33m     \u001b[0mdf_stops\u001b[0m \u001b[1;33m=\u001b[0m \u001b[0mreadtxt\u001b[0m\u001b[1;33m(\u001b[0m\u001b[0mgtfs_path\u001b[0m \u001b[1;33m+\u001b[0m \u001b[0mos\u001b[0m\u001b[1;33m.\u001b[0m\u001b[0msep\u001b[0m \u001b[1;33m+\u001b[0m \u001b[1;34m'stops'\u001b[0m\u001b[1;33m)\u001b[0m\u001b[1;33m\u001b[0m\u001b[1;33m\u001b[0m\u001b[0m\n\u001b[0m\u001b[0;32m     98\u001b[0m     \u001b[0mdf_routes\u001b[0m \u001b[1;33m=\u001b[0m \u001b[0mreadtxt\u001b[0m\u001b[1;33m(\u001b[0m\u001b[0mgtfs_path\u001b[0m \u001b[1;33m+\u001b[0m \u001b[0mos\u001b[0m\u001b[1;33m.\u001b[0m\u001b[0msep\u001b[0m \u001b[1;33m+\u001b[0m \u001b[1;34m'routes'\u001b[0m\u001b[1;33m)\u001b[0m\u001b[1;33m\u001b[0m\u001b[1;33m\u001b[0m\u001b[0m\n\u001b[0;32m     99\u001b[0m     \u001b[0mdf_trips\u001b[0m \u001b[1;33m=\u001b[0m \u001b[0mreadtxt\u001b[0m\u001b[1;33m(\u001b[0m\u001b[0mgtfs_path\u001b[0m \u001b[1;33m+\u001b[0m \u001b[0mos\u001b[0m\u001b[1;33m.\u001b[0m\u001b[0msep\u001b[0m \u001b[1;33m+\u001b[0m \u001b[1;34m'trips'\u001b[0m\u001b[1;33m)\u001b[0m\u001b[1;33m\u001b[0m\u001b[1;33m\u001b[0m\u001b[0m\n",
      "\u001b[1;32mD:\\Users\\Alice\\anaconda3\\lib\\site-packages\\gtfs2gmns-0.1.0-py3.7.egg\\gtfs2gmns\\gtfs2gmns.py\u001b[0m in \u001b[0;36mreadtxt\u001b[1;34m(filename)\u001b[0m\n\u001b[0;32m     40\u001b[0m     \u001b[0mFilepath\u001b[0m \u001b[1;33m=\u001b[0m \u001b[0mfilename\u001b[0m \u001b[1;33m+\u001b[0m\u001b[1;34m'.txt'\u001b[0m\u001b[1;33m\u001b[0m\u001b[1;33m\u001b[0m\u001b[0m\n\u001b[0;32m     41\u001b[0m     \u001b[0mdata\u001b[0m \u001b[1;33m=\u001b[0m \u001b[1;33m[\u001b[0m\u001b[1;33m]\u001b[0m\u001b[1;33m\u001b[0m\u001b[1;33m\u001b[0m\u001b[0m\n\u001b[1;32m---> 42\u001b[1;33m     \u001b[1;32mwith\u001b[0m \u001b[0mopen\u001b[0m\u001b[1;33m(\u001b[0m\u001b[0mFilepath\u001b[0m\u001b[1;33m,\u001b[0m \u001b[1;34m'r'\u001b[0m\u001b[1;33m,\u001b[0m \u001b[0mencoding\u001b[0m\u001b[1;33m=\u001b[0m\u001b[1;34m'utf-8-sig'\u001b[0m\u001b[1;33m)\u001b[0m \u001b[1;32mas\u001b[0m \u001b[0mf\u001b[0m\u001b[1;33m:\u001b[0m\u001b[1;33m\u001b[0m\u001b[1;33m\u001b[0m\u001b[0m\n\u001b[0m\u001b[0;32m     43\u001b[0m         \u001b[0mlines\u001b[0m \u001b[1;33m=\u001b[0m \u001b[0mf\u001b[0m\u001b[1;33m.\u001b[0m\u001b[0mreadlines\u001b[0m\u001b[1;33m(\u001b[0m\u001b[1;33m)\u001b[0m\u001b[1;33m\u001b[0m\u001b[1;33m\u001b[0m\u001b[0m\n\u001b[0;32m     44\u001b[0m         \u001b[0mfirst_line\u001b[0m \u001b[1;33m=\u001b[0m \u001b[0mlines\u001b[0m\u001b[1;33m[\u001b[0m\u001b[1;36m0\u001b[0m\u001b[1;33m]\u001b[0m\u001b[1;33m.\u001b[0m\u001b[0msplit\u001b[0m\u001b[1;33m(\u001b[0m\u001b[1;34m'\\n'\u001b[0m\u001b[1;33m)\u001b[0m\u001b[1;33m[\u001b[0m\u001b[1;36m0\u001b[0m\u001b[1;33m]\u001b[0m\u001b[1;33m.\u001b[0m\u001b[0msplit\u001b[0m\u001b[1;33m(\u001b[0m\u001b[1;34m','\u001b[0m\u001b[1;33m)\u001b[0m\u001b[1;33m\u001b[0m\u001b[1;33m\u001b[0m\u001b[0m\n",
      "\u001b[1;31mFileNotFoundError\u001b[0m: [Errno 2] No such file or directory: 'gtfs/\\\\stops.txt'"
     ]
    }
   ],
   "source": [
    "node_transit,link_transit = gg.Convert_GTFS(gtfs_path,gmns_path)\n",
    "node_transit.head(5)\n",
    "link_transit.head(5)"
   ]
  },
  {
   "cell_type": "markdown",
   "metadata": {},
   "source": [
    "Obtain the bounding box of the transit network."
   ]
  },
  {
   "cell_type": "code",
   "execution_count": null,
   "metadata": {},
   "outputs": [],
   "source": [
    "bbox = gg.Create_Boundary(node_transit)"
   ]
  },
  {
   "cell_type": "markdown",
   "metadata": {},
   "source": [
    "#### Step 2. Convert OSM data to GMNS\n",
    "Before merging the transit network into the road network, you need to download the osm data and convert it into the GMNS format first. [OSM2GMNS](https://github.com/jiawei92/OSM2GMNS) python package will be a good choice."
   ]
  },
  {
   "cell_type": "code",
   "execution_count": null,
   "metadata": {},
   "outputs": [],
   "source": [
    "net = og.getNetFromOSMFile('osm/map.osm',network_type=('auto'), default_lanes=True, default_speed=True)\n",
    "og.outputNetToCSV(net, output_folder='osm/')\n",
    "net = og.getNetFromCSV(osm_path)\n",
    "og.consolidateComplexIntersections(net)\n",
    "og.outputNetToCSV(net, output_folder=osm_path)"
   ]
  },
  {
   "cell_type": "markdown",
   "metadata": {},
   "source": [
    "#### Step 3. Create the Connector\n",
    "You can merge the networks by building the connector between the transit node and the nearby OSM node.\n",
    "Make sure you already obtain node_transit.csv and the osm files (node.csv and link.csv)."
   ]
  },
  {
   "cell_type": "code",
   "execution_count": null,
   "metadata": {},
   "outputs": [],
   "source": [
    "node,link_osm_connector = gg.CreatConnector_osm_gtfs(osm_path,gmns_path)\n",
    "link_osm_connector.tail(5)"
   ]
  },
  {
   "cell_type": "markdown",
   "metadata": {},
   "source": [
    "#### Step 4. Create the Transit Route\n",
    "This procedure can help you generate the actual trace for the transit route."
   ]
  },
  {
   "cell_type": "code",
   "execution_count": null,
   "metadata": {},
   "outputs": [],
   "source": [
    "link = gg.Create_TransitRoute(gmns_path)\n",
    "link.tail(5)"
   ]
  }
 ],
 "metadata": {
  "kernelspec": {
   "display_name": "Python 3",
   "language": "python",
   "name": "python3"
  },
  "language_info": {
   "codemirror_mode": {
    "name": "ipython",
    "version": 3
   },
   "file_extension": ".py",
   "mimetype": "text/x-python",
   "name": "python",
   "nbconvert_exporter": "python",
   "pygments_lexer": "ipython3",
   "version": "3.7.6"
  }
 },
 "nbformat": 4,
 "nbformat_minor": 2
}
